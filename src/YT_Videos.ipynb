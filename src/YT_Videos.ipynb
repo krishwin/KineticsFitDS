{
 "cells": [
  {
   "cell_type": "code",
   "execution_count": null,
   "metadata": {},
   "outputs": [],
   "source": [
    "import json\n",
    "import sqlite3\n",
    "import os\n",
    "import dotenv\n",
    "import  yt_dlp\n",
    "from datetime import datetime, timezone    \n",
    "import calendar \n",
    "from joblib import Parallel, delayed"
   ]
  },
  {
   "cell_type": "code",
   "execution_count": 2,
   "metadata": {},
   "outputs": [
    {
     "data": {
      "text/plain": [
       "True"
      ]
     },
     "execution_count": 2,
     "metadata": {},
     "output_type": "execute_result"
    }
   ],
   "source": [
    "dotenv.load_dotenv()"
   ]
  },
  {
   "cell_type": "code",
   "execution_count": null,
   "metadata": {},
   "outputs": [],
   "source": [
    "def dbconnection():\n",
    "    # Connect to a local SQLite database file\n",
    "    conn = sqlite3.connect('fitlabeler.db')\n",
    "    return conn"
   ]
  },
  {
   "cell_type": "code",
   "execution_count": 4,
   "metadata": {},
   "outputs": [],
   "source": [
    "def write_json(data, filename='data.json'): \n",
    "    with open('Data/'+filename  ,'w') as f: \n",
    "        json.dump(data, f)\n"
   ]
  },
  {
   "cell_type": "code",
   "execution_count": 19,
   "metadata": {},
   "outputs": [],
   "source": [
    "def getchannels(connection):\n",
    "    cursor = connection.cursor()\n",
    "    cursor.execute(\"SELECT * FROM YT_CHANNELS where status =0\")\n",
    "    channels = cursor.fetchall()\n",
    "    cursor.close()\n",
    "    return channels"
   ]
  },
  {
   "cell_type": "code",
   "execution_count": 20,
   "metadata": {},
   "outputs": [],
   "source": [
    "def getallchannels(connection):\n",
    "    cursor = connection.cursor()\n",
    "    cursor.execute(\"SELECT * FROM YT_CHANNELS where status =0\")\n",
    "    channels = cursor.fetchall()\n",
    "    cursor.close()\n",
    "    return channels"
   ]
  },
  {
   "cell_type": "code",
   "execution_count": 8,
   "metadata": {},
   "outputs": [],
   "source": [
    "def insertchanneldetails(connection,channel):\n",
    "    cursor = connection.cursor()\n",
    "    write_json(channel,channel['id']+'.json')\n",
    "    with open('Data/'+channel['id']+'.json', 'rb') as f:\n",
    "        cursor.execute(\"INSERT INTO YT_CHANNEL_DETAILS (CHANNELID, AVAILABILITY, CHANNEL_FOLLOWER_COUNT,PAYLOAD) VALUES (:1, :2, :3, :4)\", (channel['id'], channel['availability'], channel['channel_follower_count'], f.read()))\n",
    "    cursor.close()\n"
   ]
  },
  {
   "cell_type": "code",
   "execution_count": null,
   "metadata": {},
   "outputs": [],
   "source": [
    "def updatechannelstatus(connection,channel):\n",
    "    cursor = connection.cursor()\n",
    "    cursor.execute(\"UPDATE YT_CHANNELS SET STATUS = 1 WHERE CHANNELID = ?\", (channel[0],))\n",
    "    cursor.close()"
   ]
  },
  {
   "cell_type": "code",
   "execution_count": null,
   "metadata": {},
   "outputs": [],
   "source": [
    "def insertvideodetails(connection,video,channelid):\n",
    "    cursor = connection.cursor()\n",
    "    cursor.execute(\"SELECT * FROM YT_VIDEOS WHERE VIDEOID = ?\", (video['id'],))\n",
    "    row=cursor.fetchone()\n",
    "    if row is None:\n",
    "            cursor.execute(\"INSERT INTO YT_VIDEOS (VIDEOID, CHANNELID, VIEW_COUNT,DURATION,PAYLOAD) VALUES (?, ?, ?, ?, ?)\", (video['id'], channelid,video['view_count'],video['duration'], json.dumps(video)))\n",
    "    else:\n",
    "        cursor.execute(\"UPDATE YT_VIDEOS SET VIEW_COUNT = :1, DURATION = :2, PAYLOAD = :3, UPDATEDATE=SYSDATE WHERE VIDEOID = ?\", (video['view_count'],video['duration'],json.dumps(video),video['id']))\n",
    "    cursor.close()"
   ]
  },
  {
   "cell_type": "code",
   "execution_count": 36,
   "metadata": {},
   "outputs": [],
   "source": [
    "def processchannels(channels):\n",
    "    connection = dbconnection()\n",
    "    i=0\n",
    "    for channel in channels:\n",
    "        ydl_opts = {\n",
    "                'extract_flat': True,\n",
    "                'quiet': True,\n",
    "            }\n",
    "        i=i+1\n",
    "        channel_url= f\"https://www.youtube.com/channel/{channel[0]}/videos\"\n",
    "        with yt_dlp.YoutubeDL(ydl_opts) as ydl:\n",
    "            try:\n",
    "                info = ydl.extract_info(channel_url, download=False)\n",
    "                #print(json.dumps(info, indent=4))  \n",
    "                insertchanneldetails(connection,info)\n",
    "                #list_of_videos_urls = [entry['id'] for entry in info['entries']]\n",
    "                for entry in info['entries']:\n",
    "                    insertvideodetails(connection,entry,channel[0])\n",
    "            except Exception as e:\n",
    "                print(e)\n",
    "                continue\n",
    "        updatechannelstatus(connection,channel)\n",
    "        if(i%10==0):\n",
    "            connection.commit()\n",
    "    connection.commit()\n",
    "    connection.close()"
   ]
  },
  {
   "cell_type": "code",
   "execution_count": 39,
   "metadata": {},
   "outputs": [
    {
     "name": "stderr",
     "output_type": "stream",
     "text": [
      "ERROR: [youtube:tab] UC0cicvLSgneLaK-sSlkiwWA: This channel does not have a videos tab\n",
      "ERROR: [youtube:tab] UCVR8zDuJIm44DL9l2Zr0wwQ: This channel does not have a videos tab\n"
     ]
    },
    {
     "name": "stdout",
     "output_type": "stream",
     "text": [
      "ERROR: [youtube:tab] UC0cicvLSgneLaK-sSlkiwWA: This channel does not have a videos tab\n",
      "ERROR: [youtube:tab] UCVR8zDuJIm44DL9l2Zr0wwQ: This channel does not have a videos tab\n"
     ]
    },
    {
     "name": "stderr",
     "output_type": "stream",
     "text": [
      "ERROR: [youtube:tab] UC9JdlOrPLM5FQ26pc2PS5Ag: This channel does not have a videos tab\n"
     ]
    },
    {
     "name": "stdout",
     "output_type": "stream",
     "text": [
      "ERROR: [youtube:tab] UC9JdlOrPLM5FQ26pc2PS5Ag: This channel does not have a videos tab\n"
     ]
    },
    {
     "name": "stderr",
     "output_type": "stream",
     "text": [
      "ERROR: [youtube:tab] UC6GwiWH0hUkkva_ACzINgBQ: This channel does not have a videos tab\n"
     ]
    },
    {
     "name": "stdout",
     "output_type": "stream",
     "text": [
      "ERROR: [youtube:tab] UC6GwiWH0hUkkva_ACzINgBQ: This channel does not have a videos tab\n"
     ]
    },
    {
     "name": "stderr",
     "output_type": "stream",
     "text": [
      "ERROR: [youtube:tab] UC1mh8PHfHWUQha-aZlHpyHw: This channel does not have a videos tab\n"
     ]
    },
    {
     "name": "stdout",
     "output_type": "stream",
     "text": [
      "ERROR: [youtube:tab] UC1mh8PHfHWUQha-aZlHpyHw: This channel does not have a videos tab\n"
     ]
    },
    {
     "name": "stderr",
     "output_type": "stream",
     "text": [
      "ERROR: [youtube:tab] UCYdrqW_zvFsyAKxuQL3ffvQ: This channel does not have a videos tab\n"
     ]
    },
    {
     "name": "stdout",
     "output_type": "stream",
     "text": [
      "ERROR: [youtube:tab] UCYdrqW_zvFsyAKxuQL3ffvQ: This channel does not have a videos tab\n"
     ]
    },
    {
     "name": "stderr",
     "output_type": "stream",
     "text": [
      "ERROR: [youtube:tab] UCbtKafuXJB36qfiR5ypxl5w: This channel does not have a videos tab\n"
     ]
    },
    {
     "name": "stdout",
     "output_type": "stream",
     "text": [
      "ERROR: [youtube:tab] UCbtKafuXJB36qfiR5ypxl5w: This channel does not have a videos tab\n"
     ]
    },
    {
     "name": "stderr",
     "output_type": "stream",
     "text": [
      "ERROR: [youtube:tab] UCoFleBlarIxzjXejOtCXtjw: This channel does not have a videos tab\n"
     ]
    },
    {
     "name": "stdout",
     "output_type": "stream",
     "text": [
      "ERROR: [youtube:tab] UCoFleBlarIxzjXejOtCXtjw: This channel does not have a videos tab\n"
     ]
    },
    {
     "name": "stderr",
     "output_type": "stream",
     "text": [
      "ERROR: [youtube:tab] UCsGTIJ6D6wF8WZbnwaRf0Qw: This channel does not have a videos tab\n"
     ]
    },
    {
     "name": "stdout",
     "output_type": "stream",
     "text": [
      "ERROR: [youtube:tab] UCsGTIJ6D6wF8WZbnwaRf0Qw: This channel does not have a videos tab\n"
     ]
    },
    {
     "name": "stderr",
     "output_type": "stream",
     "text": [
      "ERROR: [youtube:tab] UCB6GS9z6Hbk-uKUTmuly-Mw: This channel does not have a videos tab\n"
     ]
    },
    {
     "name": "stdout",
     "output_type": "stream",
     "text": [
      "ERROR: [youtube:tab] UCB6GS9z6Hbk-uKUTmuly-Mw: This channel does not have a videos tab\n"
     ]
    },
    {
     "name": "stderr",
     "output_type": "stream",
     "text": [
      "ERROR: [youtube:tab] UCeJbE90KBJjJt6snaJR2zwA: This channel does not have a videos tab\n"
     ]
    },
    {
     "name": "stdout",
     "output_type": "stream",
     "text": [
      "ERROR: [youtube:tab] UCeJbE90KBJjJt6snaJR2zwA: This channel does not have a videos tab\n"
     ]
    },
    {
     "name": "stderr",
     "output_type": "stream",
     "text": [
      "ERROR: [youtube:tab] UCZ-1wVsLwbCu2tH5k9MFAFQ: This channel does not have a videos tab\n"
     ]
    },
    {
     "name": "stdout",
     "output_type": "stream",
     "text": [
      "ERROR: [youtube:tab] UCZ-1wVsLwbCu2tH5k9MFAFQ: This channel does not have a videos tab\n"
     ]
    },
    {
     "name": "stderr",
     "output_type": "stream",
     "text": [
      "ERROR: [youtube:tab] UCMMbkAwEDn72G5iJY6tyTvw: This channel does not have a videos tab\n"
     ]
    },
    {
     "name": "stdout",
     "output_type": "stream",
     "text": [
      "ERROR: [youtube:tab] UCMMbkAwEDn72G5iJY6tyTvw: This channel does not have a videos tab\n"
     ]
    },
    {
     "name": "stderr",
     "output_type": "stream",
     "text": [
      "ERROR: [youtube:tab] UClLIgNb-q_ERmfiqkLau72w: This channel does not have a videos tab\n"
     ]
    },
    {
     "name": "stdout",
     "output_type": "stream",
     "text": [
      "ERROR: [youtube:tab] UClLIgNb-q_ERmfiqkLau72w: This channel does not have a videos tab\n"
     ]
    },
    {
     "name": "stderr",
     "output_type": "stream",
     "text": [
      "ERROR: [youtube:tab] UCcDly4E-V2D_3HaVwiwgSOg: This channel does not have a videos tab\n"
     ]
    },
    {
     "name": "stdout",
     "output_type": "stream",
     "text": [
      "ERROR: [youtube:tab] UCcDly4E-V2D_3HaVwiwgSOg: This channel does not have a videos tab\n"
     ]
    },
    {
     "name": "stderr",
     "output_type": "stream",
     "text": [
      "WARNING: [youtube:tab] <urllib3.connection.HTTPSConnection object at 0x11d951910>: Failed to resolve 'www.youtube.com' ([Errno 8] nodename nor servname provided, or not known). Retrying (1/3)...\n",
      "WARNING: [youtube:tab] <urllib3.connection.HTTPSConnection object at 0x11d951110>: Failed to resolve 'www.youtube.com' ([Errno 8] nodename nor servname provided, or not known). Retrying (2/3)...\n",
      "WARNING: [youtube:tab] <urllib3.connection.HTTPSConnection object at 0x11d950290>: Failed to resolve 'www.youtube.com' ([Errno 8] nodename nor servname provided, or not known). Retrying (3/3)...\n",
      "WARNING: [youtube:tab] <urllib3.connection.HTTPSConnection object at 0x10b329bd0>: Failed to resolve 'www.youtube.com' ([Errno 8] nodename nor servname provided, or not known). Retrying (1/3)...\n",
      "WARNING: [youtube:tab] <urllib3.connection.HTTPSConnection object at 0x110f4ac10>: Failed to resolve 'www.youtube.com' ([Errno 8] nodename nor servname provided, or not known). Retrying (1/3)...\n",
      "WARNING: [youtube:tab] Unable to download webpage: <urllib3.connection.HTTPSConnection object at 0x11d951690>: Failed to resolve 'www.youtube.com' ([Errno 8] nodename nor servname provided, or not known) (caused by TransportError(\"<urllib3.connection.HTTPSConnection object at 0x11d951690>: Failed to resolve 'www.youtube.com' ([Errno 8] nodename nor servname provided, or not known)\")). Giving up after 3 retries\n",
      "WARNING: [youtube:tab] <urllib3.connection.HTTPSConnection object at 0x10b329a90>: Failed to resolve 'www.youtube.com' ([Errno 8] nodename nor servname provided, or not known). Retrying (2/3)...\n",
      "WARNING: [youtube:tab] <urllib3.connection.HTTPSConnection object at 0x119089650>: Failed to resolve 'www.youtube.com' ([Errno 8] nodename nor servname provided, or not known). Retrying (2/3)...\n",
      "ERROR: [youtube:tab] UC_zRjo3rhHd6EJd3018FoiQ: This channel does not have a videos tab\n"
     ]
    },
    {
     "name": "stdout",
     "output_type": "stream",
     "text": [
      "ERROR: [youtube:tab] UC_zRjo3rhHd6EJd3018FoiQ: This channel does not have a videos tab\n"
     ]
    },
    {
     "name": "stderr",
     "output_type": "stream",
     "text": [
      "ERROR: [youtube:tab] UCfY07_SkRFnv3-eFyzTeEAg: This channel does not have a videos tab\n"
     ]
    },
    {
     "name": "stdout",
     "output_type": "stream",
     "text": [
      "ERROR: [youtube:tab] UCfY07_SkRFnv3-eFyzTeEAg: This channel does not have a videos tab\n"
     ]
    },
    {
     "ename": "KeyboardInterrupt",
     "evalue": "",
     "output_type": "error",
     "traceback": [
      "\u001b[0;31m---------------------------------------------------------------------------\u001b[0m",
      "\u001b[0;31mKeyboardInterrupt\u001b[0m                         Traceback (most recent call last)",
      "Cell \u001b[0;32mIn[39], line 5\u001b[0m\n\u001b[1;32m      3\u001b[0m chunk_size \u001b[38;5;241m=\u001b[39m \u001b[38;5;241m10\u001b[39m\n\u001b[1;32m      4\u001b[0m chunks \u001b[38;5;241m=\u001b[39m [rows[i: i\u001b[38;5;241m+\u001b[39mchunk_size] \u001b[38;5;28;01mfor\u001b[39;00m i \u001b[38;5;129;01min\u001b[39;00m \u001b[38;5;28mrange\u001b[39m(\u001b[38;5;241m0\u001b[39m, \u001b[38;5;28mlen\u001b[39m(rows), chunk_size)]\n\u001b[0;32m----> 5\u001b[0m Parallel(n_jobs\u001b[38;5;241m=\u001b[39m\u001b[38;5;241m10\u001b[39m)(delayed(processchannels)(chunks[row]) \u001b[38;5;28;01mfor\u001b[39;00m row \u001b[38;5;129;01min\u001b[39;00m \u001b[38;5;28mrange\u001b[39m(\u001b[38;5;241m0\u001b[39m, \u001b[38;5;28mlen\u001b[39m(chunks)))\n\u001b[1;32m      6\u001b[0m connection\u001b[38;5;241m.\u001b[39mclose()\n",
      "File \u001b[0;32m~/anaconda3/lib/python3.11/site-packages/joblib/parallel.py:1098\u001b[0m, in \u001b[0;36mParallel.__call__\u001b[0;34m(self, iterable)\u001b[0m\n\u001b[1;32m   1095\u001b[0m     \u001b[38;5;28mself\u001b[39m\u001b[38;5;241m.\u001b[39m_iterating \u001b[38;5;241m=\u001b[39m \u001b[38;5;28;01mFalse\u001b[39;00m\n\u001b[1;32m   1097\u001b[0m \u001b[38;5;28;01mwith\u001b[39;00m \u001b[38;5;28mself\u001b[39m\u001b[38;5;241m.\u001b[39m_backend\u001b[38;5;241m.\u001b[39mretrieval_context():\n\u001b[0;32m-> 1098\u001b[0m     \u001b[38;5;28mself\u001b[39m\u001b[38;5;241m.\u001b[39mretrieve()\n\u001b[1;32m   1099\u001b[0m \u001b[38;5;66;03m# Make sure that we get a last message telling us we are done\u001b[39;00m\n\u001b[1;32m   1100\u001b[0m elapsed_time \u001b[38;5;241m=\u001b[39m time\u001b[38;5;241m.\u001b[39mtime() \u001b[38;5;241m-\u001b[39m \u001b[38;5;28mself\u001b[39m\u001b[38;5;241m.\u001b[39m_start_time\n",
      "File \u001b[0;32m~/anaconda3/lib/python3.11/site-packages/joblib/parallel.py:975\u001b[0m, in \u001b[0;36mParallel.retrieve\u001b[0;34m(self)\u001b[0m\n\u001b[1;32m    973\u001b[0m \u001b[38;5;28;01mtry\u001b[39;00m:\n\u001b[1;32m    974\u001b[0m     \u001b[38;5;28;01mif\u001b[39;00m \u001b[38;5;28mgetattr\u001b[39m(\u001b[38;5;28mself\u001b[39m\u001b[38;5;241m.\u001b[39m_backend, \u001b[38;5;124m'\u001b[39m\u001b[38;5;124msupports_timeout\u001b[39m\u001b[38;5;124m'\u001b[39m, \u001b[38;5;28;01mFalse\u001b[39;00m):\n\u001b[0;32m--> 975\u001b[0m         \u001b[38;5;28mself\u001b[39m\u001b[38;5;241m.\u001b[39m_output\u001b[38;5;241m.\u001b[39mextend(job\u001b[38;5;241m.\u001b[39mget(timeout\u001b[38;5;241m=\u001b[39m\u001b[38;5;28mself\u001b[39m\u001b[38;5;241m.\u001b[39mtimeout))\n\u001b[1;32m    976\u001b[0m     \u001b[38;5;28;01melse\u001b[39;00m:\n\u001b[1;32m    977\u001b[0m         \u001b[38;5;28mself\u001b[39m\u001b[38;5;241m.\u001b[39m_output\u001b[38;5;241m.\u001b[39mextend(job\u001b[38;5;241m.\u001b[39mget())\n",
      "File \u001b[0;32m~/anaconda3/lib/python3.11/site-packages/joblib/_parallel_backends.py:567\u001b[0m, in \u001b[0;36mLokyBackend.wrap_future_result\u001b[0;34m(future, timeout)\u001b[0m\n\u001b[1;32m    564\u001b[0m \u001b[38;5;250m\u001b[39m\u001b[38;5;124;03m\"\"\"Wrapper for Future.result to implement the same behaviour as\u001b[39;00m\n\u001b[1;32m    565\u001b[0m \u001b[38;5;124;03mAsyncResults.get from multiprocessing.\"\"\"\u001b[39;00m\n\u001b[1;32m    566\u001b[0m \u001b[38;5;28;01mtry\u001b[39;00m:\n\u001b[0;32m--> 567\u001b[0m     \u001b[38;5;28;01mreturn\u001b[39;00m future\u001b[38;5;241m.\u001b[39mresult(timeout\u001b[38;5;241m=\u001b[39mtimeout)\n\u001b[1;32m    568\u001b[0m \u001b[38;5;28;01mexcept\u001b[39;00m CfTimeoutError \u001b[38;5;28;01mas\u001b[39;00m e:\n\u001b[1;32m    569\u001b[0m     \u001b[38;5;28;01mraise\u001b[39;00m \u001b[38;5;167;01mTimeoutError\u001b[39;00m \u001b[38;5;28;01mfrom\u001b[39;00m \u001b[38;5;21;01me\u001b[39;00m\n",
      "File \u001b[0;32m~/anaconda3/lib/python3.11/concurrent/futures/_base.py:451\u001b[0m, in \u001b[0;36mFuture.result\u001b[0;34m(self, timeout)\u001b[0m\n\u001b[1;32m    448\u001b[0m \u001b[38;5;28;01melif\u001b[39;00m \u001b[38;5;28mself\u001b[39m\u001b[38;5;241m.\u001b[39m_state \u001b[38;5;241m==\u001b[39m FINISHED:\n\u001b[1;32m    449\u001b[0m     \u001b[38;5;28;01mreturn\u001b[39;00m \u001b[38;5;28mself\u001b[39m\u001b[38;5;241m.\u001b[39m__get_result()\n\u001b[0;32m--> 451\u001b[0m \u001b[38;5;28mself\u001b[39m\u001b[38;5;241m.\u001b[39m_condition\u001b[38;5;241m.\u001b[39mwait(timeout)\n\u001b[1;32m    453\u001b[0m \u001b[38;5;28;01mif\u001b[39;00m \u001b[38;5;28mself\u001b[39m\u001b[38;5;241m.\u001b[39m_state \u001b[38;5;129;01min\u001b[39;00m [CANCELLED, CANCELLED_AND_NOTIFIED]:\n\u001b[1;32m    454\u001b[0m     \u001b[38;5;28;01mraise\u001b[39;00m CancelledError()\n",
      "File \u001b[0;32m~/anaconda3/lib/python3.11/threading.py:320\u001b[0m, in \u001b[0;36mCondition.wait\u001b[0;34m(self, timeout)\u001b[0m\n\u001b[1;32m    318\u001b[0m \u001b[38;5;28;01mtry\u001b[39;00m:    \u001b[38;5;66;03m# restore state no matter what (e.g., KeyboardInterrupt)\u001b[39;00m\n\u001b[1;32m    319\u001b[0m     \u001b[38;5;28;01mif\u001b[39;00m timeout \u001b[38;5;129;01mis\u001b[39;00m \u001b[38;5;28;01mNone\u001b[39;00m:\n\u001b[0;32m--> 320\u001b[0m         waiter\u001b[38;5;241m.\u001b[39macquire()\n\u001b[1;32m    321\u001b[0m         gotit \u001b[38;5;241m=\u001b[39m \u001b[38;5;28;01mTrue\u001b[39;00m\n\u001b[1;32m    322\u001b[0m     \u001b[38;5;28;01melse\u001b[39;00m:\n",
      "\u001b[0;31mKeyboardInterrupt\u001b[0m: "
     ]
    }
   ],
   "source": [
    "connection = dbconnection()\n",
    "rows=getallchannels(connection)\n",
    "chunk_size = 10\n",
    "chunks = [rows[i: i+chunk_size] for i in range(0, len(rows), chunk_size)]\n",
    "Parallel(n_jobs=10)(delayed(processchannels)(chunks[row]) for row in range(0, len(chunks)))\n",
    "connection.close()"
   ]
  }
 ],
 "metadata": {
  "kernelspec": {
   "display_name": "base",
   "language": "python",
   "name": "python3"
  },
  "language_info": {
   "codemirror_mode": {
    "name": "ipython",
    "version": 3
   },
   "file_extension": ".py",
   "mimetype": "text/x-python",
   "name": "python",
   "nbconvert_exporter": "python",
   "pygments_lexer": "ipython3",
   "version": "3.11.5"
  }
 },
 "nbformat": 4,
 "nbformat_minor": 2
}
