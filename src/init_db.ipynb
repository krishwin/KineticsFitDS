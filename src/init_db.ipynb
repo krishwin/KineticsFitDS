{
 "cells": [
  {
   "cell_type": "markdown",
   "id": "cee20302",
   "metadata": {},
   "source": [
    "# Initialize SQLite Database for YouTube Data\n",
    "\n",
    "This notebook will help you set up the required SQLite database and tables for storing YouTube channel and video data."
   ]
  },
  {
   "cell_type": "code",
   "execution_count": null,
   "id": "44141242",
   "metadata": {},
   "outputs": [],
   "source": [
    "!pip install -r ../requirements.txt"
   ]
  },
  {
   "cell_type": "markdown",
   "id": "f14fb353",
   "metadata": {},
   "source": [
    "## 1. Import Required Libraries\n",
    "\n",
    "We will use the `sqlite3` library to interact with the SQLite database."
   ]
  },
  {
   "cell_type": "code",
   "execution_count": null,
   "id": "a6ac06c4",
   "metadata": {},
   "outputs": [],
   "source": [
    "import sqlite3\n",
    "import os"
   ]
  },
  {
   "cell_type": "markdown",
   "id": "92211b43",
   "metadata": {},
   "source": [
    "## 2. Define Database Connection Function\n",
    "\n",
    "Let's define a function to connect to the SQLite database file (`fitlabeler.db`). If the file does not exist, it will be created in the current directory."
   ]
  },
  {
   "cell_type": "code",
   "execution_count": null,
   "id": "3a9519e5",
   "metadata": {},
   "outputs": [],
   "source": [
    "def dbconnection(db_path='fitlabeler.db'):\n",
    "    conn = sqlite3.connect(db_path)\n",
    "    return conn"
   ]
  },
  {
   "cell_type": "markdown",
   "id": "7d394534",
   "metadata": {},
   "source": [
    "## 3. Create Tables in SQLite Database\n",
    "\n",
    "We will create the following tables if they do not exist:\n",
    "\n",
    "- **YT_CHANNELS**: Stores channel ID, title, and payload (JSON).\n",
    "- **YT_VIDEOS**: Stores video ID, channel ID, channel title, and payload (JSON).\n",
    "- **YT_DOWNLOAD_SESSIONS**: Tracks download sessions, page tokens, and status."
   ]
  },
  {
   "cell_type": "code",
   "execution_count": null,
   "id": "9a1f37c1",
   "metadata": {},
   "outputs": [],
   "source": [
    "def create_tables(conn):\n",
    "    cursor = conn.cursor()\n",
    "    cursor.execute(\"\"\"\n",
    "        CREATE TABLE IF NOT EXISTS YT_CHANNELS (\n",
    "            CHANNELID TEXT PRIMARY KEY,\n",
    "            CHANNELTITLE TEXT,\n",
    "            PAYLOAD TEXT\n",
    "        )\n",
    "    \"\"\")\n",
    "    cursor.execute(\"\"\"\n",
    "        CREATE TABLE IF NOT EXISTS YT_VIDEOS (\n",
    "            VIDEOID TEXT PRIMARY KEY,\n",
    "            CHANNELID TEXT,\n",
    "            CHANNELTITLE TEXT,\n",
    "            PAYLOAD TEXT,\n",
    "            FOREIGN KEY (CHANNELID) REFERENCES YT_CHANNELS(CHANNELID)\n",
    "        )\n",
    "    \"\"\")\n",
    "    cursor.execute(\"\"\"\n",
    "        CREATE TABLE IF NOT EXISTS YT_DOWNLOAD_SESSIONS (\n",
    "            ID INTEGER PRIMARY KEY,\n",
    "            YEAR INTEGER,\n",
    "            MONTH INTEGER,\n",
    "            LANGCODE TEXT,\n",
    "            START_TS TEXT,\n",
    "            END_TS TEXT,\n",
    "            STATUS INTEGER,\n",
    "            PAGETOKEN TEXT\n",
    "        )\n",
    "    \"\"\")\n",
    "    conn.commit()\n",
    "    cursor.close()\n",
    "\n",
    "# Connect and create tables\n",
    "conn = dbconnection()\n",
    "create_tables(conn)"
   ]
  },
  {
   "cell_type": "markdown",
   "id": "a578a963",
   "metadata": {},
   "source": [
    "## 4. Verify Table Creation\n",
    "\n",
    "Let's check the tables in the database to confirm that they were created successfully."
   ]
  },
  {
   "cell_type": "code",
   "execution_count": null,
   "id": "1157717d",
   "metadata": {},
   "outputs": [],
   "source": [
    "def list_tables(conn):\n",
    "    cursor = conn.cursor()\n",
    "    cursor.execute(\"SELECT name FROM sqlite_master WHERE type='table';\")\n",
    "    tables = cursor.fetchall()\n",
    "    cursor.close()\n",
    "    return tables\n",
    "\n",
    "tables = list_tables(conn)\n",
    "print(\"Tables in the database:\", [t[0] for t in tables])"
   ]
  },
  {
   "cell_type": "markdown",
   "id": "68dea9b4",
   "metadata": {},
   "source": [
    "You should see the following tables listed: `YT_CHANNELS`, `YT_VIDEOS`, and `YT_DOWNLOAD_SESSIONS`."
   ]
  }
 ],
 "metadata": {
  "language_info": {
   "name": "python"
  }
 },
 "nbformat": 4,
 "nbformat_minor": 5
}
