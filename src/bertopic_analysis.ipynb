{
 "cells": [
  {
   "cell_type": "code",
   "execution_count": 3,
   "id": "b55800f4",
   "metadata": {
    "execution": {
     "iopub.execute_input": "2024-08-29T05:00:23.884707Z",
     "iopub.status.busy": "2024-08-29T05:00:23.884368Z",
     "iopub.status.idle": "2024-08-29T05:01:11.902834Z",
     "shell.execute_reply": "2024-08-29T05:01:11.901687Z"
    },
    "papermill": {
     "duration": 48.02959,
     "end_time": "2024-08-29T05:01:11.905417",
     "exception": false,
     "start_time": "2024-08-29T05:00:23.875827",
     "status": "completed"
    },
    "tags": []
   },
   "outputs": [],
   "source": [
    "from bertopic import BERTopic\n",
    "from sklearn.feature_extraction.text import CountVectorizer\n",
    "import numpy\n",
    "import csv\n",
    "#from hdbscan import HDBSCAN\n",
    "from cuml.cluster import HDBSCAN\n",
    "from cuml.manifold import UMAP\n",
    "from cuml.preprocessing import normalize"
   ]
  },
  {
   "cell_type": "code",
   "execution_count": null,
   "id": "8ea86abc",
   "metadata": {
    "execution": {
     "iopub.execute_input": "2024-08-29T05:01:11.925073Z",
     "iopub.status.busy": "2024-08-29T05:01:11.923531Z",
     "iopub.status.idle": "2024-08-29T05:01:17.971980Z",
     "shell.execute_reply": "2024-08-29T05:01:17.970759Z"
    },
    "papermill": {
     "duration": 6.060877,
     "end_time": "2024-08-29T05:01:17.974669",
     "exception": false,
     "start_time": "2024-08-29T05:01:11.913792",
     "status": "completed"
    },
    "tags": []
   },
   "outputs": [],
   "source": [
    "df = pd.read_csv('../data/Data_out.csv')"
   ]
  },
  {
   "cell_type": "code",
   "execution_count": 5,
   "id": "53764b05",
   "metadata": {
    "execution": {
     "iopub.execute_input": "2024-08-29T05:01:17.994706Z",
     "iopub.status.busy": "2024-08-29T05:01:17.993895Z",
     "iopub.status.idle": "2024-08-29T05:01:18.035827Z",
     "shell.execute_reply": "2024-08-29T05:01:18.034777Z"
    },
    "papermill": {
     "duration": 0.053456,
     "end_time": "2024-08-29T05:01:18.038015",
     "exception": false,
     "start_time": "2024-08-29T05:01:17.984559",
     "status": "completed"
    },
    "tags": []
   },
   "outputs": [],
   "source": [
    "docs = df['clean_docs'].to_list()"
   ]
  },
  {
   "cell_type": "code",
   "execution_count": 6,
   "id": "c8931553",
   "metadata": {
    "execution": {
     "iopub.execute_input": "2024-08-29T05:01:18.056312Z",
     "iopub.status.busy": "2024-08-29T05:01:18.055624Z",
     "iopub.status.idle": "2024-08-29T05:01:41.367806Z",
     "shell.execute_reply": "2024-08-29T05:01:41.366802Z"
    },
    "papermill": {
     "duration": 23.324124,
     "end_time": "2024-08-29T05:01:41.370348",
     "exception": false,
     "start_time": "2024-08-29T05:01:18.046224",
     "status": "completed"
    },
    "tags": []
   },
   "outputs": [],
   "source": [
    "with numpy.load('/kaggle/input/yt-embebbings/embeddings.csv.npz') as data:\n",
    "    embeddings = data['arr_0']"
   ]
  },
  {
   "cell_type": "code",
   "execution_count": 7,
   "id": "d1c53de5",
   "metadata": {
    "execution": {
     "iopub.execute_input": "2024-08-29T05:01:41.389087Z",
     "iopub.status.busy": "2024-08-29T05:01:41.388405Z",
     "iopub.status.idle": "2024-08-29T05:02:30.216686Z",
     "shell.execute_reply": "2024-08-29T05:02:30.215711Z"
    },
    "papermill": {
     "duration": 48.840615,
     "end_time": "2024-08-29T05:02:30.219377",
     "exception": false,
     "start_time": "2024-08-29T05:01:41.378762",
     "status": "completed"
    },
    "tags": []
   },
   "outputs": [
    {
     "name": "stderr",
     "output_type": "stream",
     "text": [
      "/opt/conda/lib/python3.10/site-packages/cupy/cuda/compiler.py:233: PerformanceWarning: Jitify is performing a one-time only warm-up to populate the persistent cache, this may take a few seconds and will be improved in a future release...\n",
      "  jitify._init_module()\n"
     ]
    }
   ],
   "source": [
    "embeddings = normalize(embeddings)\n"
   ]
  },
  {
   "cell_type": "code",
   "execution_count": 8,
   "id": "beaa1923",
   "metadata": {
    "execution": {
     "iopub.execute_input": "2024-08-29T05:02:30.238043Z",
     "iopub.status.busy": "2024-08-29T05:02:30.237591Z",
     "iopub.status.idle": "2024-08-29T05:02:30.253636Z",
     "shell.execute_reply": "2024-08-29T05:02:30.252377Z"
    },
    "papermill": {
     "duration": 0.02821,
     "end_time": "2024-08-29T05:02:30.256261",
     "exception": false,
     "start_time": "2024-08-29T05:02:30.228051",
     "status": "completed"
    },
    "tags": []
   },
   "outputs": [],
   "source": [
    "umap_model =UMAP(\n",
    "            n_neighbors=15,\n",
    "            n_components=5,\n",
    "            min_dist=0.0,\n",
    "            metric=\"cosine\",\n",
    "        )"
   ]
  },
  {
   "cell_type": "code",
   "execution_count": 9,
   "id": "cf214cdf",
   "metadata": {
    "execution": {
     "iopub.execute_input": "2024-08-29T05:02:30.274988Z",
     "iopub.status.busy": "2024-08-29T05:02:30.274564Z",
     "iopub.status.idle": "2024-08-29T05:02:30.279297Z",
     "shell.execute_reply": "2024-08-29T05:02:30.278284Z"
    },
    "papermill": {
     "duration": 0.016629,
     "end_time": "2024-08-29T05:02:30.281753",
     "exception": false,
     "start_time": "2024-08-29T05:02:30.265124",
     "status": "completed"
    },
    "tags": []
   },
   "outputs": [],
   "source": [
    "vectorizer_model = CountVectorizer(stop_words=\"english\")\n"
   ]
  },
  {
   "cell_type": "code",
   "execution_count": 10,
   "id": "a959b901",
   "metadata": {
    "execution": {
     "iopub.execute_input": "2024-08-29T05:02:30.299479Z",
     "iopub.status.busy": "2024-08-29T05:02:30.299123Z",
     "iopub.status.idle": "2024-08-29T05:16:19.860795Z",
     "shell.execute_reply": "2024-08-29T05:16:19.859606Z"
    },
    "papermill": {
     "duration": 829.573444,
     "end_time": "2024-08-29T05:16:19.863468",
     "exception": false,
     "start_time": "2024-08-29T05:02:30.290024",
     "status": "completed"
    },
    "tags": []
   },
   "outputs": [
    {
     "name": "stdout",
     "output_type": "stream",
     "text": [
      "[I] [05:03:32.442584] Transform can only be run with brute force. Using brute force.\n"
     ]
    }
   ],
   "source": [
    "hdbscan_model = HDBSCAN(min_cluster_size=10, min_samples=5)\n",
    "topic_model = BERTopic(vectorizer_model=vectorizer_model,low_memory=True,hdbscan_model=hdbscan_model,umap_model=umap_model)\n",
    "topics, probs = topic_model.fit_transform(docs,embeddings)\n",
    "df = topic_model.get_document_info(docs)"
   ]
  },
  {
   "cell_type": "code",
   "execution_count": 11,
   "id": "dc5be788",
   "metadata": {
    "execution": {
     "iopub.execute_input": "2024-08-29T05:16:19.881955Z",
     "iopub.status.busy": "2024-08-29T05:16:19.881286Z",
     "iopub.status.idle": "2024-08-29T05:16:19.885598Z",
     "shell.execute_reply": "2024-08-29T05:16:19.884625Z"
    },
    "papermill": {
     "duration": 0.015492,
     "end_time": "2024-08-29T05:16:19.887407",
     "exception": false,
     "start_time": "2024-08-29T05:16:19.871915",
     "status": "completed"
    },
    "tags": []
   },
   "outputs": [],
   "source": [
    "#reduced_embeddings = UMAP(n_neighbors=10, n_components=2, \n",
    "#                          min_dist=0.0, metric='cosine').fit_transform(embeddings[:100000])"
   ]
  },
  {
   "cell_type": "code",
   "execution_count": 12,
   "id": "47ff1922",
   "metadata": {
    "execution": {
     "iopub.execute_input": "2024-08-29T05:16:19.903664Z",
     "iopub.status.busy": "2024-08-29T05:16:19.902932Z",
     "iopub.status.idle": "2024-08-29T05:16:19.906943Z",
     "shell.execute_reply": "2024-08-29T05:16:19.906087Z"
    },
    "papermill": {
     "duration": 0.014076,
     "end_time": "2024-08-29T05:16:19.908796",
     "exception": false,
     "start_time": "2024-08-29T05:16:19.894720",
     "status": "completed"
    },
    "tags": []
   },
   "outputs": [],
   "source": [
    "#topic_model.visualize_documents(docs[:100000], reduced_embeddings=reduced_embeddings, \n",
    "#                                hide_document_hover=True, hide_annotations=True)\n"
   ]
  },
  {
   "cell_type": "code",
   "execution_count": 13,
   "id": "041eea2b",
   "metadata": {
    "execution": {
     "iopub.execute_input": "2024-08-29T05:16:19.924653Z",
     "iopub.status.busy": "2024-08-29T05:16:19.924054Z",
     "iopub.status.idle": "2024-08-29T05:43:30.663070Z",
     "shell.execute_reply": "2024-08-29T05:43:30.662166Z"
    },
    "papermill": {
     "duration": 1630.749573,
     "end_time": "2024-08-29T05:43:30.665648",
     "exception": false,
     "start_time": "2024-08-29T05:16:19.916075",
     "status": "completed"
    },
    "tags": []
   },
   "outputs": [
    {
     "name": "stderr",
     "output_type": "stream",
     "text": [
      "2024-08-29 05:42:24,665 - BERTopic - WARNING: Using a custom list of topic assignments may lead to errors if topic reduction techniques are used afterwards. Make sure that manually assigning topics is the last step in the pipeline.Note that topic embeddings will also be created through weightedc-TF-IDF embeddings instead of centroid embeddings.\n"
     ]
    }
   ],
   "source": [
    "new_topics = topic_model.reduce_outliers(docs, topics, strategy=\"embeddings\",embeddings=embeddings)\n",
    "topic_model.update_topics(docs, topics=new_topics)\n"
   ]
  },
  {
   "cell_type": "code",
   "execution_count": 14,
   "id": "241fc25e",
   "metadata": {
    "execution": {
     "iopub.execute_input": "2024-08-29T05:43:30.683348Z",
     "iopub.status.busy": "2024-08-29T05:43:30.683005Z",
     "iopub.status.idle": "2024-08-29T05:43:32.172174Z",
     "shell.execute_reply": "2024-08-29T05:43:32.171344Z"
    },
    "papermill": {
     "duration": 1.500415,
     "end_time": "2024-08-29T05:43:32.174537",
     "exception": false,
     "start_time": "2024-08-29T05:43:30.674122",
     "status": "completed"
    },
    "tags": []
   },
   "outputs": [],
   "source": [
    "df = topic_model.get_document_info(docs)"
   ]
  },
  {
   "cell_type": "code",
   "execution_count": null,
   "id": "b0a16cab",
   "metadata": {
    "execution": {
     "iopub.execute_input": "2024-08-29T05:43:32.192101Z",
     "iopub.status.busy": "2024-08-29T05:43:32.191724Z",
     "iopub.status.idle": "2024-08-29T05:44:42.265448Z",
     "shell.execute_reply": "2024-08-29T05:44:42.264534Z"
    },
    "papermill": {
     "duration": 70.084926,
     "end_time": "2024-08-29T05:44:42.267991",
     "exception": false,
     "start_time": "2024-08-29T05:43:32.183065",
     "status": "completed"
    },
    "tags": []
   },
   "outputs": [],
   "source": [
    "df.to_csv('../data/topics_out.csv')"
   ]
  },
  {
   "cell_type": "code",
   "execution_count": null,
   "id": "1239fe73",
   "metadata": {
    "execution": {
     "iopub.execute_input": "2024-08-29T05:44:42.310774Z",
     "iopub.status.busy": "2024-08-29T05:44:42.310135Z",
     "iopub.status.idle": "2024-08-29T05:44:46.699252Z",
     "shell.execute_reply": "2024-08-29T05:44:46.698421Z"
    },
    "papermill": {
     "duration": 4.400539,
     "end_time": "2024-08-29T05:44:46.701574",
     "exception": false,
     "start_time": "2024-08-29T05:44:42.301035",
     "status": "completed"
    },
    "tags": []
   },
   "outputs": [],
   "source": [
    "topic_model.save('../model', serialization=\"safetensors\", save_ctfidf=True)\n"
   ]
  },
  {
   "cell_type": "code",
   "execution_count": null,
   "id": "77bebdc1",
   "metadata": {},
   "outputs": [],
   "source": [
    "fig = topic_model.visualize_hierarchy()\n",
    "fig.write_html(\"../data/hierarchy.html\")"
   ]
  }
 ],
 "metadata": {
  "kaggle": {
   "accelerator": "nvidiaTeslaT4",
   "dataSources": [
    {
     "sourceId": 194333469,
     "sourceType": "kernelVersion"
    }
   ],
   "dockerImageVersionId": 30761,
   "isGpuEnabled": true,
   "isInternetEnabled": true,
   "language": "python",
   "sourceType": "notebook"
  },
  "kernelspec": {
   "display_name": "Python 3",
   "language": "python",
   "name": "python3"
  },
  "language_info": {
   "codemirror_mode": {
    "name": "ipython",
    "version": 3
   },
   "file_extension": ".py",
   "mimetype": "text/x-python",
   "name": "python",
   "nbconvert_exporter": "python",
   "pygments_lexer": "ipython3",
   "version": "3.10.14"
  },
  "papermill": {
   "default_parameters": {},
   "duration": 2687.962702,
   "end_time": "2024-08-29T05:44:50.635273",
   "environment_variables": {},
   "exception": null,
   "input_path": "__notebook__.ipynb",
   "output_path": "__notebook__.ipynb",
   "parameters": {},
   "start_time": "2024-08-29T05:00:02.672571",
   "version": "2.6.0"
  }
 },
 "nbformat": 4,
 "nbformat_minor": 5
}
