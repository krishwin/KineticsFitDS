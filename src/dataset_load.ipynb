{
 "cells": [
  {
   "cell_type": "code",
   "execution_count": null,
   "metadata": {},
   "outputs": [],
   "source": [
    "import argilla as rg\n",
    "import sqlite3\n",
    "import os\n",
    "import numpy\n",
    "import array\n",
    "import json"
   ]
  },
  {
   "cell_type": "code",
   "execution_count": null,
   "metadata": {},
   "outputs": [],
   "source": [
    "api_url = os.getenv(\"ARGILLA_API_URL\", \"http://localhost:6900\")\n",
    "api_key = os.getenv(\"ARGILLA_API_KEY\", \"argilla.apikey\")\n",
    "\n",
    "client = rg.Argilla(\n",
    "    api_url=api_url,\n",
    "    api_key=api_key\n",
    ")"
   ]
  },
  {
   "cell_type": "code",
   "execution_count": 40,
   "metadata": {},
   "outputs": [
    {
     "name": "stderr",
     "output_type": "stream",
     "text": [
      "/Users/kanantharaman/anaconda3/lib/python3.11/site-packages/argilla/client.py:338: UserWarning: Dataset with name 'homefitness_dataset_v1' not found in workspace 'homeworkouts'\n",
      "  warnings.warn(f\"Dataset with name {name!r} not found in workspace {workspace.name!r}\")\n"
     ]
    }
   ],
   "source": [
    "dataset = client.datasets(\"homefitness_dataset_v1\")\n",
    "if dataset is  None:\n",
    "    settings = rg.Settings(\n",
    "        guidelines=\"Classify the video  as fitness related or not.\",\n",
    "        fields=[\n",
    "            rg.TextField(\n",
    "                name=\"Title\",\n",
    "                title=\"Title\",\n",
    "                use_markdown=False,\n",
    "            ),\n",
    "            rg.TextField(\n",
    "                name=\"Description\",\n",
    "                title=\"Description\",\n",
    "                use_markdown=False,\n",
    "            ),\n",
    "            rg.TextField(\n",
    "                name=\"video_id\",\n",
    "                title=\"video_id\",\n",
    "                use_markdown=True,\n",
    "            ),\n",
    "            rg.TextField(\n",
    "                name=\"channel\",\n",
    "                title=\"channeltitle\",\n",
    "                use_markdown=False,\n",
    "            ),\n",
    "             rg.TextField(\n",
    "                name=\"view_count\",\n",
    "                title=\"view_count\",\n",
    "                use_markdown=False,\n",
    "            ),\n",
    "            \n",
    "        ],\n",
    "        questions=[\n",
    "            rg.LabelQuestion(\n",
    "                name=\"fit_label\",\n",
    "                title=\"Does this video belong to fitness or not?\",\n",
    "                labels=[\"Yes\", \"No\"],\n",
    "            )\n",
    "        ],\n",
    "        vectors=[rg.VectorField(\n",
    "        name=\"title_desc_vector\",\n",
    "        title=\"Title Description Vector\",\n",
    "        dimensions=768\n",
    "                )  ]\n",
    "    )\n",
    "    dataset = rg.Dataset(\n",
    "        name=f\"homefitness_dataset_v1\",\n",
    "        workspace=\"homeworkouts\",\n",
    "        settings=settings,\n",
    "        client=client,\n",
    "    )\n",
    "    dataset.create()\n"
   ]
  },
  {
   "cell_type": "code",
   "execution_count": null,
   "metadata": {},
   "outputs": [],
   "source": [
    "def dbconnection():\n",
    "    # Connect to a local SQLite database file\n",
    "    conn = sqlite3.connect('fitlabeler.db')\n",
    "    return conn"
   ]
  },
  {
   "cell_type": "code",
   "execution_count": null,
   "metadata": {},
   "outputs": [],
   "source": [
    "def getvideos(connection):\n",
    "    cursor = connection.cursor()\n",
    "    cursor.execute(\"\"\"\n",
    "        SELECT json_object(\n",
    "            'video_id', videoid,\n",
    "            'view_count', COALESCE(view_count, 0),\n",
    "            'channel', c.channeltitle,\n",
    "            'title', json_extract(v.payload, '$.title'),\n",
    "            'description', COALESCE(json_extract(v.payload, '$.description'), ' '),\n",
    "            'title_desc_vector', embedding\n",
    "        )\n",
    "        FROM yt_videos v\n",
    "        JOIN yt_channels c ON v.channelid = c.channelid\n",
    "        WHERE v.embedding IS NOT NULL\n",
    "          AND v.status = 1\n",
    "          AND json_extract(v.payload, '$.title') IS NOT NULL\n",
    "        LIMIT 1000\n",
    "    \"\"\")\n",
    "    videos = cursor.fetchall()\n",
    "    cursor.close()\n",
    "    return videos\n"
   ]
  },
  {
   "cell_type": "code",
   "execution_count": null,
   "metadata": {},
   "outputs": [],
   "source": [
    "def updatevideo(connection, video_id):\n",
    "    cursor = connection.cursor()\n",
    "    cursor.execute(\"update yt_videos set status=2 where videoid=?\", video_id=video_id)\n",
    "    cursor.close()"
   ]
  },
  {
   "cell_type": "code",
   "execution_count": 64,
   "metadata": {},
   "outputs": [],
   "source": [
    "def checkES(video_id):\n",
    "    response = dataset.records(query=video_id).to_list(\n",
    "    flatten=True\n",
    "    )\n",
    "    return response"
   ]
  },
  {
   "cell_type": "code",
   "execution_count": null,
   "metadata": {},
   "outputs": [],
   "source": [
    "conn = dbconnection()\n",
    "i=0\n",
    "for video in getvideos(conn):\n",
    "        record = []\n",
    "        record.append(json.loads(video[0].read()))\n",
    "        if(not checkES(record[0]['video_id'])):\n",
    "            i=i+1\n",
    "            dataset.records.log(record)\n",
    "            updatevideo(conn,record[0]['video_id'])\n",
    "        if(i%100==0):\n",
    "            conn.commit()\n",
    "conn.commit()\n",
    "conn.close()\n",
    "   "
   ]
  }
 ],
 "metadata": {
  "kernelspec": {
   "display_name": "base",
   "language": "python",
   "name": "python3"
  },
  "language_info": {
   "codemirror_mode": {
    "name": "ipython",
    "version": 3
   },
   "file_extension": ".py",
   "mimetype": "text/x-python",
   "name": "python",
   "nbconvert_exporter": "python",
   "pygments_lexer": "ipython3",
   "version": "3.11.5"
  }
 },
 "nbformat": 4,
 "nbformat_minor": 2
}
